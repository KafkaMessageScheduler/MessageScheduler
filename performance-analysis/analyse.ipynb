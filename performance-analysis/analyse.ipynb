{
 "cells": [
  {
   "cell_type": "code",
   "execution_count": 1,
   "metadata": {},
   "outputs": [],
   "source": [
    "import pandas as pd\n",
    "import matplotlib.pyplot as plt"
   ]
  },
  {
   "cell_type": "code",
   "execution_count": 84,
   "metadata": {},
   "outputs": [],
   "source": [
    "mdb_path = \"/mnt/Media Drive/Academics/Thesis/MessageScheduler/data/2022-06-13 11-06-25/message-database/messages.csv\"\n",
    "dbs_path = \"/mnt/Media Drive/Academics/Thesis/MessageScheduler/data/2022-06-13 11-06-25/database-scheduler/messages.csv\"\n",
    "result_path = \"/mnt/Media Drive/Academics/Thesis/MessageScheduler/data/2022-06-13 11-06-25/result/\"\n",
    "\n",
    "mdb_df = pd.read_csv(mdb_path, index_col=0)\n",
    "dbs_df = pd.read_csv(dbs_path, index_col=0)"
   ]
  }
 ],
 "metadata": {
  "interpreter": {
   "hash": "31f2aee4e71d21fbe5cf8b01ff0e069b9275f58929596ceb00d14d90e3e16cd6"
  },
  "kernelspec": {
   "display_name": "Python 3.10.4 64-bit",
   "language": "python",
   "name": "python3"
  },
  "language_info": {
   "codemirror_mode": {
    "name": "ipython",
    "version": 3
   },
   "file_extension": ".py",
   "mimetype": "text/x-python",
   "name": "python",
   "nbconvert_exporter": "python",
   "pygments_lexer": "ipython3",
   "version": "3.10.4"
  },
  "orig_nbformat": 4
 },
 "nbformat": 4,
 "nbformat_minor": 2
}
